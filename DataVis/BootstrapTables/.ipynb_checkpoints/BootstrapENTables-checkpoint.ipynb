{
 "cells": [
  {
   "cell_type": "markdown",
   "metadata": {},
   "source": [
    "Produces tables with bootstrap percentages and EN coefficients in them."
   ]
  },
  {
   "cell_type": "code",
   "execution_count": 1,
   "metadata": {},
   "outputs": [],
   "source": [
    "# Initial imports\n",
    "\n",
    "import numpy as np\n",
    "import pandas as pd\n",
    "from sklearn.linear_model import ElasticNetCV\n",
    "from sklearn import preprocessing\n",
    "from matplotlib import pyplot as plt\n",
    "plt.style.use('seaborn-darkgrid')\n",
    "palette = plt.get_cmap('Dark2')\n",
    "import os"
   ]
  },
  {
   "cell_type": "code",
   "execution_count": 90,
   "metadata": {},
   "outputs": [],
   "source": [
    "def AbsoluteBootstrapTable(perc, topicdesc, topicno = 15, entirebool=False):\n",
    "    '''Creates a table that returns the topics\n",
    "    and words of the most selected topics in the bootstrap procedure.\n",
    "    Returns the percentage of times they were chosen. Does not consider\n",
    "    the sign of the coefficients, only that they were non-zero\n",
    "    \n",
    "    Inputs:\n",
    "        perc: numpy array of percentages of times coefficients were chosen\n",
    "        topicdesc: panda DataFrame object describing the topics in usual form,\n",
    "                   NB when importing fromm csv add .transpose() to end\n",
    "        topicno: integer determining how many topics do you want the DF to have\n",
    "        entirebool: set to true if doing analysis on all 180 topics together\n",
    "    Outputs:\n",
    "        Pandas Dataframe object\n",
    "    '''\n",
    "    topicdesc.columns = topicdesc.iloc[0] # remove title row\n",
    "    topicdesc = topicdesc.reindex(topicdesc.index.drop(0))\n",
    "    topicdesc_level = topicdesc.iloc[:, ::2].copy() # get rid of probabilities of words (they are in order)\n",
    "    topicdesc_change = topicdesc.iloc[:, ::2].copy() # create new copy for the changes in words\n",
    "    topicdesc_change = topicdesc_change.add_suffix('_chg')\n",
    "    if entirebool==True:\n",
    "        topicdesc_change_ir = topicdesc_change.add_suffix('_ir')\n",
    "        topicdesc_change_qa = topicdesc_change.add_suffix('_qa')\n",
    "        topicdesc_change_stat = topicdesc_change.add_suffix('_stat')\n",
    "        topicdesc_level_ir = topicdesc_level.add_suffix('_ir')\n",
    "        topicdesc_level_qa = topicdesc_level.add_suffix('_qa')\n",
    "        topicdesc_level_stat = topicdesc_level.add_suffix('_stat')        \n",
    "        topicdf = pd.concat([topicdesc_change_ir, topicdesc_level_ir, topicdesc_change_qa, topicdesc_level_qa, topicdesc_change_stat, topicdesc_level_stat], axis=1)\n",
    "    else:    \n",
    "        topicdf = pd.concat([topicdesc_change, topicdesc_level], axis=1) # concatenate the two dataframes\n",
    "    topicdf.loc[0, :] = perc.copy() # put percentages in row with row index 0\n",
    "    topicdf = topicdf.sort_index() # sort so that percentages are at the top\n",
    "    topicdf.rename(index={0:'Percs'}, inplace=True)\n",
    "    \n",
    "    topicdf.sort_values(by='Percs', axis=1, ascending=False, inplace=True) # sort the table so the most selected ones are at the front\n",
    "    \n",
    "    dftoexport = topicdf.T # transpose\n",
    "    dftoexport['Stems'] = dftoexport[list(range(1, 10))].apply(lambda x: '. '.join(x), axis=1) # aggregate up\n",
    "    dftoexport = dftoexport.loc[:,['Percs', 'Stems']].copy()\n",
    "    dftoexport.columns = ['Bootstrap %', 'Stems']\n",
    "    dftoexport = dftoexport.iloc[0:topicno, :].copy()\n",
    "    dftoexport.rename_axis('Topic', inplace=True)\n",
    "    \n",
    "    return dftoexport"
   ]
  },
  {
   "cell_type": "code",
   "execution_count": 91,
   "metadata": {},
   "outputs": [],
   "source": [
    "def ENTable(ENcoeffs, topicdesc, entirebool=False):\n",
    "    '''Creates a table that returns the non-zero coefficient values in an elastic\n",
    "    net regression and the topic descriptions\n",
    "    \n",
    "    Inputs:\n",
    "        Encoeffs: numpy array of the elastic net coefficient matrix\n",
    "        topicdesc: panda DataFrame object describing the topics in usual form,\n",
    "                   NB when importing fromm csv add .transpose() to end\n",
    "    Outputs:\n",
    "        Pandas dataframe object\n",
    "    '''\n",
    "    topicdesc.columns = topicdesc.iloc[0] # remove title row\n",
    "    topicdesc = topicdesc.reindex(topicdesc.index.drop(0))\n",
    "    topicdesc_level = topicdesc.iloc[:, ::2].copy() # get rid of probabilities of words (they are in order)\n",
    "    topicdesc_change = topicdesc.iloc[:, ::2].copy() # create new copy for the changes in words\n",
    "    topicdesc_change = topicdesc_change.add_suffix('_chg')\n",
    "    if entirebool==True:\n",
    "        topicdesc_change_ir = topicdesc_change.add_suffix('_ir')\n",
    "        topicdesc_change_qa = topicdesc_change.add_suffix('_qa')\n",
    "        topicdesc_change_stat = topicdesc_change.add_suffix('_stat')\n",
    "        topicdesc_level_ir = topicdesc_level.add_suffix('_ir')\n",
    "        topicdesc_level_qa = topicdesc_level.add_suffix('_qa')\n",
    "        topicdesc_level_stat = topicdesc_level.add_suffix('_stat')        \n",
    "        topicdf = pd.concat([topicdesc_change_ir, topicdesc_level_ir, topicdesc_change_qa, topicdesc_level_qa, topicdesc_change_stat, topicdesc_level_stat], axis=1)\n",
    "    else:    \n",
    "        topicdf = pd.concat([topicdesc_change, topicdesc_level], axis=1) # concatenate the two dataframes\n",
    "    \n",
    "    ENtopicdf = topicdf.copy()\n",
    "    ENtopicdf.loc[0, :] = ENcoeffs.copy()\n",
    "    ENtopicdf.rename(index={0:'Coeffs'}, inplace=True)\n",
    "    ENsortedtopicdf = ENtopicdf.sort_values(by='Coeffs', axis=1, ascending=False)\n",
    "    ENsortedtopicdf = ENsortedtopicdf.loc[:, (ENsortedtopicdf.loc['Coeffs', :] != 0)]\n",
    "    \n",
    "    ENdftoexport = ENsortedtopicdf.T\n",
    "    ENdftoexport['Stems'] = ENdftoexport[list(range(1, 10))].apply(lambda x: '. '.join(x), axis=1) # aggregate up\n",
    "    ENdftoexport = ENdftoexport.loc[:,['Coeffs', 'Stems']].copy()\n",
    "    ENdftoexport.columns = ['Coefficient', 'Stems']\n",
    "    ENdftoexport.rename_axis('Topic', inplace=True)\n",
    "    ENdftoexport['Coefficient'] = ENdftoexport['Coefficient'].apply(lambda x: round(x, 2)) #round to 2 dp\n",
    "    \n",
    "    return ENdftoexport"
   ]
  },
  {
   "cell_type": "code",
   "execution_count": 82,
   "metadata": {},
   "outputs": [],
   "source": [
    "def AbsoluteBootstrapTableENAug(perc, topicdesc, ENcoeffs, topicno = 15, entirebool=False):\n",
    "    '''\n",
    "    Creates a bootstrap table, but adds a column which puts in the\n",
    "    coefficient from the EN table as well to get a sense of direction.'''\n",
    "    \n",
    "    # Get both tables\n",
    "    Btable = AbsoluteBootstrapTable(perc, topicdesc, topicno, entirebool=entirebool)\n",
    "    ENtable = ENTable(ENcoeffs, topicdesc, entirebool=entirebool)\n",
    "    \n",
    "    concattable = pd.concat([Btable, ENtable['Coefficient']], axis=1, sort=False)\n",
    "    concattable = concattable.iloc[0:topicno, :]\n",
    "    \n",
    "    return concattable"
   ]
  },
  {
   "cell_type": "code",
   "execution_count": 83,
   "metadata": {},
   "outputs": [],
   "source": [
    "def TableLatex(table, name, path):\n",
    "    '''Convert pandas dataframe to latex and save it somewhere\n",
    "    \n",
    "    Inputs:\n",
    "        Table: pandas dataframe object you want to save as a latex table\n",
    "        Path: Where you want to save the latex table\n",
    "        Name: Name of table which it will be saved as\n",
    "    Outputs:\n",
    "        None.\n",
    "    '''\n",
    "    \n",
    "    pd.set_option('display.max_colwidth', -1) # make pandas return full table\n",
    "    os.chdir(path)\n",
    "    with open((str(name)+'.tex'),'w') as tf: # write it to a latex file \n",
    "        tf.write(table.to_latex(column_format = '|l|c|l|c|',\n",
    "                                 bold_rows=True))\n",
    "    \n",
    "    return None"
   ]
  },
  {
   "cell_type": "code",
   "execution_count": 84,
   "metadata": {},
   "outputs": [],
   "source": [
    "# We want to return these for all three mediums and 2 moments (stdev and skew, kurtosis looks iffy so bin it)"
   ]
  },
  {
   "cell_type": "code",
   "execution_count": 85,
   "metadata": {},
   "outputs": [],
   "source": [
    "# Import the data\n",
    "\n",
    "# Topic description\n",
    "mytopicdesc = pd.read_csv('C:/Users/Tim/Documents/Nuffield/MphilThesis/Output/1 - LDA/Together/k_30/alltext_topic_desc.csv', header=None).transpose()\n",
    "\n",
    "# Bootstrap data\n",
    "stdevirpercs = np.load('C:/Users/Tim/Documents/Nuffield/MphilThesis/Output/4 - VariableSelection/2 - Bootstrap/Together/k_30/QuerySeparate/StDevresid_irpercs.npy')\n",
    "stdevqapercs = np.load('C:/Users/Tim/Documents/Nuffield/MphilThesis/Output/4 - VariableSelection/2 - Bootstrap/Together/k_30/QuerySeparate/StDevresid_qapercs.npy')\n",
    "stdevstatpercs = np.load('C:/Users/Tim/Documents/Nuffield/MphilThesis/Output/4 - VariableSelection/2 - Bootstrap/Together/k_30/QuerySeparate/StDevresid_statpercs.npy')\n",
    "\n",
    "skewirpercs = np.load('C:/Users/Tim/Documents/Nuffield/MphilThesis/Output/4 - VariableSelection/2 - Bootstrap/Together/k_30/QuerySeparate/Skewresid_irpercs.npy')\n",
    "skewqapercs = np.load('C:/Users/Tim/Documents/Nuffield/MphilThesis/Output/4 - VariableSelection/2 - Bootstrap/Together/k_30/QuerySeparate/Skewresid_qapercs.npy')\n",
    "skewstatpercs = np.load('C:/Users/Tim/Documents/Nuffield/MphilThesis/Output/4 - VariableSelection/2 - Bootstrap/Together/k_30/QuerySeparate/Skewresid_statpercs.npy')\n",
    "\n",
    "stdevpercs_entire = np.load('C:/Users/Tim/Documents/Nuffield/MphilThesis/Output/4 - VariableSelection/2 - Bootstrap/Together/k_30/QuerySeparate/Entire/stdev_entirepercs.npy')\n",
    "skewpercs_entire = np.load('C:/Users/Tim/Documents/Nuffield/MphilThesis/Output/4 - VariableSelection/2 - Bootstrap/Together/k_30/QuerySeparate/Entire/skew_entirepercs.npy')\n",
    "\n",
    "# Elastic Net coefficients\n",
    "stdevircoeffs = np.load('C:/Users/Tim/Documents/Nuffield/MphilThesis/Output/4 - VariableSelection/1 - Permutation/Together/k_30/QuerySeparate/stdev_ircoeffs.npy')\n",
    "stdevqacoeffs = np.load('C:/Users/Tim/Documents/Nuffield/MphilThesis/Output/4 - VariableSelection/1 - Permutation/Together/k_30/QuerySeparate/stdev_qacoeffs.npy')\n",
    "stdevstatcoeffs = np.load('C:/Users/Tim/Documents/Nuffield/MphilThesis/Output/4 - VariableSelection/1 - Permutation/Together/k_30/QuerySeparate/stdev_statcoeffs.npy')\n",
    "\n",
    "skewircoeffs = np.load('C:/Users/Tim/Documents/Nuffield/MphilThesis/Output/4 - VariableSelection/1 - Permutation/Together/k_30/QuerySeparate/skew_ircoeffs.npy')\n",
    "skewqacoeffs = np.load('C:/Users/Tim/Documents/Nuffield/MphilThesis/Output/4 - VariableSelection/1 - Permutation/Together/k_30/QuerySeparate/skew_qacoeffs.npy')\n",
    "skewstatcoeffs = np.load('C:/Users/Tim/Documents/Nuffield/MphilThesis/Output/4 - VariableSelection/1 - Permutation/Together/k_30/QuerySeparate/skew_statcoeffs.npy')\n",
    "\n",
    "stdevcoeffs_entire = np.load('C:/Users/Tim/Documents/Nuffield/MphilThesis/Output/4 - VariableSelection/1 - Permutation/Together/k_30/QuerySeparate/Entire/stdev_entirecoeffs.npy')\n",
    "skewcoeffs_entire = np.load('C:/Users/Tim/Documents/Nuffield/MphilThesis/Output/4 - VariableSelection/1 - Permutation/Together/k_30/QuerySeparate/Entire/skew_entirecoeffs.npy')\n"
   ]
  },
  {
   "cell_type": "code",
   "execution_count": 86,
   "metadata": {},
   "outputs": [],
   "source": [
    "mypath = 'C:/Users/Tim/Documents/Nuffield/MphilThesis/DataVis/BootstrapTables/Figs/'\n",
    "\n",
    "BootstrapDict = {'stdevir':stdevirpercs,\n",
    "               'stdevqa':stdevqapercs,\n",
    "               'stdevstat':stdevstatpercs,\n",
    "               'skewir':skewirpercs,\n",
    "               'skewqa':skewqapercs,\n",
    "               'skewstat':skewstatpercs}\n",
    "ENDict = {'stdevir':stdevircoeffs,\n",
    "          'stdevqa':stdevqacoeffs,\n",
    "          'stdevstat':stdevstatcoeffs,\n",
    "          'skewir':skewircoeffs,\n",
    "          'skewqa':skewqacoeffs,\n",
    "          'skewstat':skewstatcoeffs}"
   ]
  },
  {
   "cell_type": "code",
   "execution_count": 75,
   "metadata": {},
   "outputs": [],
   "source": [
    "#for key in BootstrapDict.keys():\n",
    "#    TableLatex(AbsoluteBootstrapTable(BootstrapDict[key], mytopicdesc), (key+str('boot')), mypath)"
   ]
  },
  {
   "cell_type": "code",
   "execution_count": 76,
   "metadata": {},
   "outputs": [],
   "source": [
    "#for key in ENDict.keys():\n",
    "#    TableLatex(ENTable(ENDict[key], mytopicdesc), (key+str('EN')), mypath)"
   ]
  },
  {
   "cell_type": "code",
   "execution_count": 77,
   "metadata": {},
   "outputs": [],
   "source": [
    "#for key in ENDict.keys():\n",
    "#    TableLatex(AbsoluteBootstrapTableENAug(BootstrapDict[key], mytopicdesc, ENDict[key]), (key+str('BandEN')), mypath)"
   ]
  },
  {
   "cell_type": "code",
   "execution_count": 94,
   "metadata": {},
   "outputs": [],
   "source": [
    "TableLatex(AbsoluteBootstrapTableENAug(stdevpercs_entire, mytopicdesc, stdevcoeffs_entire, entirebool=True), 'stdeventire', mypath)\n",
    "TableLatex(AbsoluteBootstrapTableENAug(skewpercs_entire, mytopicdesc, skewcoeffs_entire, entirebool=True), 'skewentire', mypath)\n"
   ]
  },
  {
   "cell_type": "code",
   "execution_count": null,
   "metadata": {},
   "outputs": [],
   "source": []
  }
 ],
 "metadata": {
  "kernelspec": {
   "display_name": "Python 3",
   "language": "python",
   "name": "python3"
  },
  "language_info": {
   "codemirror_mode": {
    "name": "ipython",
    "version": 3
   },
   "file_extension": ".py",
   "mimetype": "text/x-python",
   "name": "python",
   "nbconvert_exporter": "python",
   "pygments_lexer": "ipython3",
   "version": "3.6.5"
  }
 },
 "nbformat": 4,
 "nbformat_minor": 2
}
