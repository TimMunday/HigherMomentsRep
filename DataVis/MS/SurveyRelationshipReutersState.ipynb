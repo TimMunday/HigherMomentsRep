{
 "cells": [
  {
   "cell_type": "markdown",
   "metadata": {},
   "source": [
    "Produce regression tables and figures for whole sample and sub samples to test Morris and Shin hypothesis."
   ]
  },
  {
   "cell_type": "code",
   "execution_count": 1,
   "metadata": {},
   "outputs": [],
   "source": [
    "# Initial imports \n",
    "import pandas as pd\n",
    "import numpy as np\n",
    "import statsmodels.api as sm\n",
    "from matplotlib import pyplot as plt\n",
    "plt.style.use('seaborn-darkgrid')\n",
    "palette = plt.get_cmap('Dark2')\n",
    "import datetime as dt\n",
    "directory = 'C:/Users/tmund/Documents/Submissions/HigherMomentsRep/'\n",
    "os.chdir(directory)"
   ]
  },
  {
   "cell_type": "code",
   "execution_count": 2,
   "metadata": {},
   "outputs": [],
   "source": [
    "mypath = 'DataVis/MS/Figs/'"
   ]
  },
  {
   "cell_type": "code",
   "execution_count": 3,
   "metadata": {},
   "outputs": [],
   "source": [
    "# Import data\n",
    "SurveyShock = pd.read_pickle('Output/7 - Shocks/ReutersSurveyShock.pkl')"
   ]
  },
  {
   "cell_type": "code",
   "execution_count": 4,
   "metadata": {},
   "outputs": [],
   "source": [
    "# Morris and Shin analysis\n",
    "# i.e. previous surveys have effect on shock as CB chooses shock level to deliver"
   ]
  },
  {
   "cell_type": "code",
   "execution_count": 5,
   "metadata": {},
   "outputs": [],
   "source": [
    "# Surveys have effect on subsequent shock\n",
    "# Regressions:\n",
    "    # RHS: Surveys - levels, changes and lags\n",
    "    # LHS: Shocks - both specifications\n",
    "# Full sample\n",
    "    \n",
    "startdate = pd.to_datetime('20080101', format='%Y%m%d', errors='ignore') \n",
    "enddate = pd.to_datetime('20140101', format='%Y%m%d', errors='ignore')\n",
    "survey_list_ms = ['StDev_sur',\n",
    "                  'Range_sur']\n",
    "\n",
    "shock_list_ms = ['StDevresid_shock',\n",
    "                'StDevresid_fitted_ir_shock']\n",
    "\n",
    "coeff_dict_ms = {}\n",
    "\n",
    "for shock_measure in shock_list_ms:\n",
    "    SurveyShockNoNaMS = SurveyShock.copy()\n",
    "    SurveyShockNoNaMS[shock_measure] = SurveyShockNoNaMS.loc[:, shock_measure].shift(-1) # get t plus 1 shock\n",
    "    SurveyShockNoNaMS = SurveyShockNoNaMS.loc[startdate:enddate, :].copy() # only keep subsample\n",
    "    for survey_measure in survey_list_ms:\n",
    "        SurveyShockNoNaMS = SurveyShockNoNaMS.loc[SurveyShockNoNaMS[survey_measure].isna()==False, :] # only keep lines with surveys in\n",
    "        SurveyShockNoNaMS['StDev_sur_chg'] = SurveyShockNoNaMS['StDev_sur'].diff(1) # create change variables\n",
    "        SurveyShockNoNaMS['Range_sur_chg'] = SurveyShockNoNaMS['Range_sur'].diff(1)\n",
    "        X = pd.DataFrame(index = SurveyShockNoNaMS.index)\n",
    "        X = sm.add_constant(X, prepend=True)\n",
    "        y = SurveyShockNoNaMS.loc[:, shock_measure].copy()\n",
    "        for i in range(0, 5): # go from zero here as you can have \"contemporaneous\" variables in this survey given structure of df\n",
    "            X[survey_measure+str('_')+str(i)] = SurveyShockNoNaMS.loc[:, survey_measure].copy().shift(i)\n",
    "            model = sm.OLS(y, X, missing='drop')\n",
    "            res = model.fit()\n",
    "            coeff_dict_ms[str(shock_measure)\n",
    "                          +str(survey_measure)\n",
    "                          +str('_')\n",
    "                          +str(i)] = pd.DataFrame(data={'coeffs':res.params,\n",
    "                                                        'tvalues':res.tvalues})"
   ]
  },
  {
   "cell_type": "code",
   "execution_count": 6,
   "metadata": {},
   "outputs": [
    {
     "data": {
      "text/html": [
       "<div>\n",
       "<style scoped>\n",
       "    .dataframe tbody tr th:only-of-type {\n",
       "        vertical-align: middle;\n",
       "    }\n",
       "\n",
       "    .dataframe tbody tr th {\n",
       "        vertical-align: top;\n",
       "    }\n",
       "\n",
       "    .dataframe thead th {\n",
       "        text-align: right;\n",
       "    }\n",
       "</style>\n",
       "<table border=\"1\" class=\"dataframe\">\n",
       "  <thead>\n",
       "    <tr style=\"text-align: right;\">\n",
       "      <th></th>\n",
       "      <th>coeffs</th>\n",
       "      <th>tvalues</th>\n",
       "    </tr>\n",
       "  </thead>\n",
       "  <tbody>\n",
       "    <tr>\n",
       "      <th>const</th>\n",
       "      <td>0.007303</td>\n",
       "      <td>3.368620</td>\n",
       "    </tr>\n",
       "    <tr>\n",
       "      <th>StDev_sur_0</th>\n",
       "      <td>-0.027117</td>\n",
       "      <td>-3.262721</td>\n",
       "    </tr>\n",
       "  </tbody>\n",
       "</table>\n",
       "</div>"
      ],
      "text/plain": [
       "               coeffs   tvalues\n",
       "const        0.007303  3.368620\n",
       "StDev_sur_0 -0.027117 -3.262721"
      ]
     },
     "execution_count": 6,
     "metadata": {},
     "output_type": "execute_result"
    }
   ],
   "source": [
    "coeff_dict_ms['StDevresid_fitted_ir_shockStDev_sur_0']"
   ]
  },
  {
   "cell_type": "code",
   "execution_count": 7,
   "metadata": {},
   "outputs": [
    {
     "data": {
      "text/html": [
       "<div>\n",
       "<style scoped>\n",
       "    .dataframe tbody tr th:only-of-type {\n",
       "        vertical-align: middle;\n",
       "    }\n",
       "\n",
       "    .dataframe tbody tr th {\n",
       "        vertical-align: top;\n",
       "    }\n",
       "\n",
       "    .dataframe thead th {\n",
       "        text-align: right;\n",
       "    }\n",
       "</style>\n",
       "<table border=\"1\" class=\"dataframe\">\n",
       "  <thead>\n",
       "    <tr style=\"text-align: right;\">\n",
       "      <th></th>\n",
       "      <th>coeffs</th>\n",
       "      <th>tvalues</th>\n",
       "    </tr>\n",
       "  </thead>\n",
       "  <tbody>\n",
       "    <tr>\n",
       "      <th>const</th>\n",
       "      <td>0.007198</td>\n",
       "      <td>2.937245</td>\n",
       "    </tr>\n",
       "    <tr>\n",
       "      <th>Range_sur_0</th>\n",
       "      <td>-0.005941</td>\n",
       "      <td>-2.745967</td>\n",
       "    </tr>\n",
       "  </tbody>\n",
       "</table>\n",
       "</div>"
      ],
      "text/plain": [
       "               coeffs   tvalues\n",
       "const        0.007198  2.937245\n",
       "Range_sur_0 -0.005941 -2.745967"
      ]
     },
     "execution_count": 7,
     "metadata": {},
     "output_type": "execute_result"
    }
   ],
   "source": [
    "coeff_dict_ms['StDevresid_fitted_ir_shockRange_sur_0']"
   ]
  },
  {
   "cell_type": "code",
   "execution_count": 8,
   "metadata": {},
   "outputs": [],
   "source": [
    "# For now just write these out."
   ]
  },
  {
   "cell_type": "code",
   "execution_count": 22,
   "metadata": {},
   "outputs": [],
   "source": [
    "# Do a rolling regression to get a sense of shape\n",
    "\n",
    "def rolling(survey_measure, shock_measure, periods, label):\n",
    "    coeff_array=np.zeros(periods)\n",
    "    t_array = np.zeros(periods)\n",
    "    \n",
    "    i = 0\n",
    "    startdate = pd.to_datetime('19980101', format='%Y%m%d', errors='ignore') \n",
    "    enddate = pd.to_datetime('20040101', format='%Y%m%d', errors='ignore') \n",
    "    while i<periods:\n",
    "        SurveyShockNoNaMS = SurveyShock.copy()\n",
    "        SurveyShockNoNaMS[shock_measure] = SurveyShockNoNaMS.loc[:, shock_measure].shift(-1) # get t plus 1 shock\n",
    "        SurveyShockNoNaMS = SurveyShockNoNaMS.loc[startdate:enddate, :].copy() # only keep subsample\n",
    "        SurveyShockNoNaMS['StDev_sur_chg'] = SurveyShockNoNaMS['StDev_sur'].diff(1) # create change variables\n",
    "        SurveyShockNoNaMS['Range_sur_chg'] = SurveyShockNoNaMS['Range_sur'].diff(1)\n",
    "        SurveyShockNoNaMS = SurveyShockNoNaMS.loc[SurveyShockNoNaMS[survey_measure].isna()==False, :] # only keep lines with surveys in\n",
    "        X = pd.DataFrame(index = SurveyShockNoNaMS.index)\n",
    "        X = sm.add_constant(X, prepend=True)\n",
    "        y = SurveyShockNoNaMS.loc[:, shock_measure].copy()\n",
    "        X[survey_measure] = SurveyShockNoNaMS.loc[:, survey_measure].copy() # only \"contemporaneous\", no lags\n",
    "        model = sm.OLS(y, X, missing='drop')\n",
    "        res = model.fit()\n",
    "        coeff_array[i] = res.params[1]\n",
    "        t_array[i] =res.tvalues[1]\n",
    "\n",
    "        startdate = startdate + pd.Timedelta(1, unit='M')\n",
    "        enddate = enddate + pd.Timedelta(1, unit='M')\n",
    "        i += 1\n",
    "    #print(startdate)\n",
    "    print(enddate)\n",
    "    dateaxis = pd.date_range(start = pd.to_datetime('19980101', format='%Y%m%d', errors='ignore'), \n",
    "                            periods=periods,\n",
    "                            freq='M')\n",
    "    #plt.figure(figsize=(8, 6))\n",
    "    plt.plot(dateaxis,t_array, label=label)\n",
    "    plt.xlabel('Starting year for rolling regression')\n",
    "    plt.ylabel('t-values')\n",
    "    plt.hlines(-1.96, xmin =pd.to_datetime('19980101', format='%Y%m%d', errors='ignore'),\n",
    "               xmax = pd.to_datetime('20140101', format='%Y%m%d', errors='ignore'),\n",
    "               colors='k', linestyle='dashed')\n",
    "    plt.legend()\n",
    "    #plt.savefig(mypath+str(survey_measure)+str('rolling.pdf'))\n",
    "    #plt.show()\n",
    "    return None"
   ]
  },
  {
   "cell_type": "code",
   "execution_count": 23,
   "metadata": {},
   "outputs": [
    {
     "name": "stdout",
     "output_type": "stream",
     "text": [
      "2018-12-31 15:18:00\n",
      "2018-12-31 15:18:00\n"
     ]
    },
    {
     "data": {
      "image/png": "[encoded data removed]",
      "text/plain": [
       "<Figure size 864x360 with 2 Axes>"
      ]
     },
     "metadata": {},
     "output_type": "display_data"
    }
   ],
   "source": [
    "plt.figure(figsize=(12, 5))\n",
    "plt.subplot(1, 2, 1)\n",
    "rolling('StDev_sur', 'StDevresid_fitted_ir_shock', 180, 't-values of rolling reg. using st. dev. of survey')\n",
    "\n",
    "plt.subplot(1, 2, 2)\n",
    "rolling('Range_sur', 'StDevresid_fitted_ir_shock', 180, 't-values of rolling reg. using range of survey')\n",
    "\n",
    "plt.savefig(mypath+str('rolling.pdf'))\n",
    "plt.show()"
   ]
  },
  {
   "cell_type": "code",
   "execution_count": null,
   "metadata": {},
   "outputs": [],
   "source": []
  }
 ],
 "metadata": {
  "kernelspec": {
   "display_name": "Python 3",
   "language": "python",
   "name": "python3"
  },
  "language_info": {
   "codemirror_mode": {
    "name": "ipython",
    "version": 3
   },
   "file_extension": ".py",
   "mimetype": "text/x-python",
   "name": "python",
   "nbconvert_exporter": "python",
   "pygments_lexer": "ipython3",
   "version": "3.6.5"
  }
 },
 "nbformat": 4,
 "nbformat_minor": 2
}